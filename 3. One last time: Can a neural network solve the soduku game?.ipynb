{
  "nbformat": 4,
  "nbformat_minor": 0,
  "metadata": {
    "kernelspec": {
      "display_name": "Python 3",
      "language": "python",
      "name": "python3"
    },
    "language_info": {
      "codemirror_mode": {
        "name": "ipython",
        "version": 3
      },
      "file_extension": ".py",
      "mimetype": "text/x-python",
      "name": "python",
      "nbconvert_exporter": "python",
      "pygments_lexer": "ipython3",
      "version": "3.7.3"
    },
    "colab": {
      "name": "3. One last time : Can a neural network solve the soduku game?.ipynb",
      "provenance": [],
      "collapsed_sections": [],
      "toc_visible": true,
      "include_colab_link": true
    },
    "accelerator": "GPU"
  },
  "cells": [
    {
      "cell_type": "markdown",
      "metadata": {
        "id": "view-in-github",
        "colab_type": "text"
      },
      "source": [
        "<a href=\"https://colab.research.google.com/github/guru3/soduku_solver/blob/master/3.%20One%20last%20time%3A%20Can%20a%20neural%20network%20solve%20the%20soduku%20game%3F.ipynb\" target=\"_parent\"><img src=\"https://colab.research.google.com/assets/colab-badge.svg\" alt=\"Open In Colab\"/></a>"
      ]
    },
    {
      "cell_type": "markdown",
      "metadata": {
        "id": "N4xFVvbzQudc",
        "colab_type": "text"
      },
      "source": [
        "#### Let's give it another shot!"
      ]
    },
    {
      "cell_type": "code",
      "metadata": {
        "id": "4OwcNc45Qude",
        "colab_type": "code",
        "outputId": "a461e950-9e2e-4908-c1fe-2be1a788fec9",
        "colab": {
          "resources": {
            "http://localhost:8080/nbextensions/google.colab/files.js": {
              "data": "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",
              "ok": true,
              "headers": [
                [
                  "content-type",
                  "application/javascript"
                ]
              ],
              "status": 200,
              "status_text": "OK"
            }
          },
          "base_uri": "https://localhost:8080/",
          "height": 89
        }
      },
      "source": [
        "! pip install -q kaggle\n",
        "from google.colab import files\n",
        "files.upload()"
      ],
      "execution_count": 1,
      "outputs": [
        {
          "output_type": "display_data",
          "data": {
            "text/html": [
              "\n",
              "     <input type=\"file\" id=\"files-13094fe4-59c7-4d66-b1a6-7cd3696fb1b3\" name=\"files[]\" multiple disabled />\n",
              "     <output id=\"result-13094fe4-59c7-4d66-b1a6-7cd3696fb1b3\">\n",
              "      Upload widget is only available when the cell has been executed in the\n",
              "      current browser session. Please rerun this cell to enable.\n",
              "      </output>\n",
              "      <script src=\"/nbextensions/google.colab/files.js\"></script> "
            ],
            "text/plain": [
              "<IPython.core.display.HTML object>"
            ]
          },
          "metadata": {
            "tags": []
          }
        },
        {
          "output_type": "stream",
          "text": [
            "Saving kaggle.json to kaggle.json\n"
          ],
          "name": "stdout"
        },
        {
          "output_type": "execute_result",
          "data": {
            "text/plain": [
              "{'kaggle.json': b'{\"username\":\"guru333\",\"key\":\"695a60acdd9541c267fbd36712d5ffcd\"}'}"
            ]
          },
          "metadata": {
            "tags": []
          },
          "execution_count": 1
        }
      ]
    },
    {
      "cell_type": "code",
      "metadata": {
        "id": "w6zYliydQudp",
        "colab_type": "code",
        "colab": {
          "base_uri": "https://localhost:8080/",
          "height": 104
        },
        "outputId": "e247298c-cddb-4220-a4a9-50e0e70fd6f5"
      },
      "source": [
        "! mkdir ~/.kaggle\n",
        "! cp kaggle.json ~/.kaggle/\n",
        "! chmod 600 ~/.kaggle/kaggle.json\n",
        "! kaggle datasets download bryanpark/sudoku\n",
        "!unzip sudoku.zip"
      ],
      "execution_count": 2,
      "outputs": [
        {
          "output_type": "stream",
          "text": [
            "Downloading sudoku.zip to /content\n",
            " 84% 57.0M/68.1M [00:00<00:00, 56.7MB/s]\n",
            "100% 68.1M/68.1M [00:00<00:00, 126MB/s] \n",
            "Archive:  sudoku.zip\n",
            "  inflating: sudoku.csv              \n"
          ],
          "name": "stdout"
        }
      ]
    },
    {
      "cell_type": "code",
      "metadata": {
        "id": "LsnMFh76Qudz",
        "colab_type": "code",
        "colab": {
          "base_uri": "https://localhost:8080/",
          "height": 34
        },
        "outputId": "a33657b3-ed2c-441c-f961-9f10479a55cf"
      },
      "source": [
        "import csv\n",
        "import random\n",
        "import pickle\n",
        "import numpy as np\n",
        "from keras.callbacks import Callback\n",
        "from keras.models import Sequential,Model\n",
        "from keras.layers import Conv2D,Dense,Flatten,Input,Dropout\n",
        "import matplotlib.pyplot as plt\n",
        "from keras.utils import to_categorical"
      ],
      "execution_count": 1,
      "outputs": [
        {
          "output_type": "stream",
          "text": [
            "Using TensorFlow backend.\n"
          ],
          "name": "stderr"
        }
      ]
    },
    {
      "cell_type": "code",
      "metadata": {
        "id": "QIlYSDwPQud7",
        "colab_type": "code",
        "colab": {}
      },
      "source": [
        "def read_raw_data(total_to_read):\n",
        "    FILE_PATH = './sudoku.csv';\n",
        "    soduku_games = csv.reader(open(FILE_PATH,'r'))\n",
        "    next(soduku_games);\n",
        "\n",
        "    quizzes = [];\n",
        "    solutions = [];\n",
        "    index = 0;\n",
        "    for game in soduku_games:\n",
        "        index = index+ 1;\n",
        "        if( index == total_to_read ):\n",
        "            break;\n",
        "        \n",
        "        quizzes.append( np.reshape([int(d) for d in game[0]], (9, 9)) )\n",
        "        solutions.append( np.reshape([int(d) for d in game[1]], (9, 9)) )\n",
        "        \n",
        "    permutation = np.random.permutation(len(quizzes));\n",
        "    quizzes = np.array(quizzes)[permutation];\n",
        "    solutions = np.array(solutions)[permutation];\n",
        "    return quizzes, solutions;"
      ],
      "execution_count": 0,
      "outputs": []
    },
    {
      "cell_type": "code",
      "metadata": {
        "id": "B7iMvwQ6QueW",
        "colab_type": "code",
        "colab": {}
      },
      "source": [
        "def change_output(Y):\n",
        "    return [ Y[:,i,j,:] for i in range(9) for j in range(9) ]\n",
        "\n",
        "def remove_clues(inputArray, remove_clue=0):\n",
        "    #very inefficient method - please perform walk of shame\n",
        "    for inputs in inputArray:\n",
        "      can_remove = [];\n",
        "      for row in range(9):\n",
        "        for col in range(9):\n",
        "          if( np.sum(inputs[row,col,:]) != 0 ):\n",
        "            can_remove.append( [row,col] )\n",
        "      \n",
        "      can_remove = np.array(can_remove)[ np.random.permutation(len(can_remove)) ];\n",
        "      for i in range(remove_clue):\n",
        "        [row,col] = can_remove[i];\n",
        "        inputs[row,col,:] = 0;\n",
        "    return inputArray;\n",
        "\n",
        "def data_to_categorical(): # we will use one hot encoding of input and output  - this breakdown is more intuitive in the given case of discrete numbers\n",
        "    X, Y = read_raw_data(20000);\n",
        "    \n",
        "    X = to_categorical(X, num_classes=10)\n",
        "    X_also = to_categorical(Y, num_classes=10);\n",
        "    Y = to_categorical(Y-1, num_classes=9)\n",
        "    total_ex = X.shape[0];\n",
        "    training_ex = (int)(total_ex*0.8);\n",
        "    validation_ex= (int)(total_ex*0.1);\n",
        "    train_X, train_Y = X_also[:training_ex], change_output(Y[:training_ex]);\n",
        "    valid_X, valid_Y = X[training_ex:training_ex+validation_ex], change_output(Y[training_ex:training_ex+validation_ex]);\n",
        "    test_X, test_Y = X[training_ex+validation_ex:], change_output(Y[training_ex+validation_ex:]);\n",
        "    \n",
        "    return X_also[:training_ex], train_Y, valid_X, valid_Y, test_X, test_Y;"
      ],
      "execution_count": 0,
      "outputs": []
    },
    {
      "cell_type": "code",
      "metadata": {
        "id": "-vZYtgT1Quea",
        "colab_type": "code",
        "colab": {}
      },
      "source": [
        "train_X,train_Y,valid_X,valid_Y,test_X,test_Y = data_to_categorical();"
      ],
      "execution_count": 0,
      "outputs": []
    },
    {
      "cell_type": "code",
      "metadata": {
        "id": "zDcZfJ-0Quee",
        "colab_type": "code",
        "outputId": "3f330f24-db1e-40fb-9d9c-9bc4022fd5e7",
        "colab": {
          "base_uri": "https://localhost:8080/",
          "height": 52
        }
      },
      "source": [
        "print(train_X.shape)\n",
        "print(len(train_Y),train_Y[0].shape)"
      ],
      "execution_count": 8,
      "outputs": [
        {
          "output_type": "stream",
          "text": [
            "(15999, 9, 9, 10)\n",
            "81 (15999, 9)\n"
          ],
          "name": "stdout"
        }
      ]
    },
    {
      "cell_type": "code",
      "metadata": {
        "id": "_z3zd7TqQuei",
        "colab_type": "code",
        "colab": {}
      },
      "source": [
        "def get_model():\n",
        "    model = Sequential();\n",
        "    model.add( Dense(128, input_shape=(9,9,10)) );\n",
        "    model.add( Dropout(0.5) );\n",
        "    model.add( Dense(64) );\n",
        "    model.add( Dense(32) );\n",
        "    model.add( Flatten() )\n",
        "    \n",
        "    input_ = Input(shape=(9,9,10))\n",
        "    intermediate_output = model(input_)\n",
        "    \n",
        "    outputs = [ Dense(9, activation='sigmoid')(intermediate_output) for i in range(81) ] #for each cell in sudoku table\n",
        "    model = Model(input_, outputs);\n",
        "    model.compile( optimizer='RMSProp', loss='categorical_crossentropy', metrics= ['accuracy'] )\n",
        "    return model"
      ],
      "execution_count": 0,
      "outputs": []
    },
    {
      "cell_type": "code",
      "metadata": {
        "id": "L4BTkniKQuem",
        "colab_type": "code",
        "colab": {}
      },
      "source": [
        "model = get_model();"
      ],
      "execution_count": 0,
      "outputs": []
    },
    {
      "cell_type": "code",
      "metadata": {
        "id": "jgNYvNSxQueq",
        "colab_type": "code",
        "outputId": "3a82b3c8-1501-4a84-8fa8-46f3763beb58",
        "colab": {
          "base_uri": "https://localhost:8080/",
          "height": 1000
        }
      },
      "source": [
        "model.summary()"
      ],
      "execution_count": 11,
      "outputs": [
        {
          "output_type": "stream",
          "text": [
            "Model: \"model_1\"\n",
            "__________________________________________________________________________________________________\n",
            "Layer (type)                    Output Shape         Param #     Connected to                     \n",
            "==================================================================================================\n",
            "input_1 (InputLayer)            (None, 9, 9, 10)     0                                            \n",
            "__________________________________________________________________________________________________\n",
            "sequential_1 (Sequential)       (None, 2592)         11744       input_1[0][0]                    \n",
            "__________________________________________________________________________________________________\n",
            "dense_4 (Dense)                 (None, 9)            23337       sequential_1[1][0]               \n",
            "__________________________________________________________________________________________________\n",
            "dense_5 (Dense)                 (None, 9)            23337       sequential_1[1][0]               \n",
            "__________________________________________________________________________________________________\n",
            "dense_6 (Dense)                 (None, 9)            23337       sequential_1[1][0]               \n",
            "__________________________________________________________________________________________________\n",
            "dense_7 (Dense)                 (None, 9)            23337       sequential_1[1][0]               \n",
            "__________________________________________________________________________________________________\n",
            "dense_8 (Dense)                 (None, 9)            23337       sequential_1[1][0]               \n",
            "__________________________________________________________________________________________________\n",
            "dense_9 (Dense)                 (None, 9)            23337       sequential_1[1][0]               \n",
            "__________________________________________________________________________________________________\n",
            "dense_10 (Dense)                (None, 9)            23337       sequential_1[1][0]               \n",
            "__________________________________________________________________________________________________\n",
            "dense_11 (Dense)                (None, 9)            23337       sequential_1[1][0]               \n",
            "__________________________________________________________________________________________________\n",
            "dense_12 (Dense)                (None, 9)            23337       sequential_1[1][0]               \n",
            "__________________________________________________________________________________________________\n",
            "dense_13 (Dense)                (None, 9)            23337       sequential_1[1][0]               \n",
            "__________________________________________________________________________________________________\n",
            "dense_14 (Dense)                (None, 9)            23337       sequential_1[1][0]               \n",
            "__________________________________________________________________________________________________\n",
            "dense_15 (Dense)                (None, 9)            23337       sequential_1[1][0]               \n",
            "__________________________________________________________________________________________________\n",
            "dense_16 (Dense)                (None, 9)            23337       sequential_1[1][0]               \n",
            "__________________________________________________________________________________________________\n",
            "dense_17 (Dense)                (None, 9)            23337       sequential_1[1][0]               \n",
            "__________________________________________________________________________________________________\n",
            "dense_18 (Dense)                (None, 9)            23337       sequential_1[1][0]               \n",
            "__________________________________________________________________________________________________\n",
            "dense_19 (Dense)                (None, 9)            23337       sequential_1[1][0]               \n",
            "__________________________________________________________________________________________________\n",
            "dense_20 (Dense)                (None, 9)            23337       sequential_1[1][0]               \n",
            "__________________________________________________________________________________________________\n",
            "dense_21 (Dense)                (None, 9)            23337       sequential_1[1][0]               \n",
            "__________________________________________________________________________________________________\n",
            "dense_22 (Dense)                (None, 9)            23337       sequential_1[1][0]               \n",
            "__________________________________________________________________________________________________\n",
            "dense_23 (Dense)                (None, 9)            23337       sequential_1[1][0]               \n",
            "__________________________________________________________________________________________________\n",
            "dense_24 (Dense)                (None, 9)            23337       sequential_1[1][0]               \n",
            "__________________________________________________________________________________________________\n",
            "dense_25 (Dense)                (None, 9)            23337       sequential_1[1][0]               \n",
            "__________________________________________________________________________________________________\n",
            "dense_26 (Dense)                (None, 9)            23337       sequential_1[1][0]               \n",
            "__________________________________________________________________________________________________\n",
            "dense_27 (Dense)                (None, 9)            23337       sequential_1[1][0]               \n",
            "__________________________________________________________________________________________________\n",
            "dense_28 (Dense)                (None, 9)            23337       sequential_1[1][0]               \n",
            "__________________________________________________________________________________________________\n",
            "dense_29 (Dense)                (None, 9)            23337       sequential_1[1][0]               \n",
            "__________________________________________________________________________________________________\n",
            "dense_30 (Dense)                (None, 9)            23337       sequential_1[1][0]               \n",
            "__________________________________________________________________________________________________\n",
            "dense_31 (Dense)                (None, 9)            23337       sequential_1[1][0]               \n",
            "__________________________________________________________________________________________________\n",
            "dense_32 (Dense)                (None, 9)            23337       sequential_1[1][0]               \n",
            "__________________________________________________________________________________________________\n",
            "dense_33 (Dense)                (None, 9)            23337       sequential_1[1][0]               \n",
            "__________________________________________________________________________________________________\n",
            "dense_34 (Dense)                (None, 9)            23337       sequential_1[1][0]               \n",
            "__________________________________________________________________________________________________\n",
            "dense_35 (Dense)                (None, 9)            23337       sequential_1[1][0]               \n",
            "__________________________________________________________________________________________________\n",
            "dense_36 (Dense)                (None, 9)            23337       sequential_1[1][0]               \n",
            "__________________________________________________________________________________________________\n",
            "dense_37 (Dense)                (None, 9)            23337       sequential_1[1][0]               \n",
            "__________________________________________________________________________________________________\n",
            "dense_38 (Dense)                (None, 9)            23337       sequential_1[1][0]               \n",
            "__________________________________________________________________________________________________\n",
            "dense_39 (Dense)                (None, 9)            23337       sequential_1[1][0]               \n",
            "__________________________________________________________________________________________________\n",
            "dense_40 (Dense)                (None, 9)            23337       sequential_1[1][0]               \n",
            "__________________________________________________________________________________________________\n",
            "dense_41 (Dense)                (None, 9)            23337       sequential_1[1][0]               \n",
            "__________________________________________________________________________________________________\n",
            "dense_42 (Dense)                (None, 9)            23337       sequential_1[1][0]               \n",
            "__________________________________________________________________________________________________\n",
            "dense_43 (Dense)                (None, 9)            23337       sequential_1[1][0]               \n",
            "__________________________________________________________________________________________________\n",
            "dense_44 (Dense)                (None, 9)            23337       sequential_1[1][0]               \n",
            "__________________________________________________________________________________________________\n",
            "dense_45 (Dense)                (None, 9)            23337       sequential_1[1][0]               \n",
            "__________________________________________________________________________________________________\n",
            "dense_46 (Dense)                (None, 9)            23337       sequential_1[1][0]               \n",
            "__________________________________________________________________________________________________\n",
            "dense_47 (Dense)                (None, 9)            23337       sequential_1[1][0]               \n",
            "__________________________________________________________________________________________________\n",
            "dense_48 (Dense)                (None, 9)            23337       sequential_1[1][0]               \n",
            "__________________________________________________________________________________________________\n",
            "dense_49 (Dense)                (None, 9)            23337       sequential_1[1][0]               \n",
            "__________________________________________________________________________________________________\n",
            "dense_50 (Dense)                (None, 9)            23337       sequential_1[1][0]               \n",
            "__________________________________________________________________________________________________\n",
            "dense_51 (Dense)                (None, 9)            23337       sequential_1[1][0]               \n",
            "__________________________________________________________________________________________________\n",
            "dense_52 (Dense)                (None, 9)            23337       sequential_1[1][0]               \n",
            "__________________________________________________________________________________________________\n",
            "dense_53 (Dense)                (None, 9)            23337       sequential_1[1][0]               \n",
            "__________________________________________________________________________________________________\n",
            "dense_54 (Dense)                (None, 9)            23337       sequential_1[1][0]               \n",
            "__________________________________________________________________________________________________\n",
            "dense_55 (Dense)                (None, 9)            23337       sequential_1[1][0]               \n",
            "__________________________________________________________________________________________________\n",
            "dense_56 (Dense)                (None, 9)            23337       sequential_1[1][0]               \n",
            "__________________________________________________________________________________________________\n",
            "dense_57 (Dense)                (None, 9)            23337       sequential_1[1][0]               \n",
            "__________________________________________________________________________________________________\n",
            "dense_58 (Dense)                (None, 9)            23337       sequential_1[1][0]               \n",
            "__________________________________________________________________________________________________\n",
            "dense_59 (Dense)                (None, 9)            23337       sequential_1[1][0]               \n",
            "__________________________________________________________________________________________________\n",
            "dense_60 (Dense)                (None, 9)            23337       sequential_1[1][0]               \n",
            "__________________________________________________________________________________________________\n",
            "dense_61 (Dense)                (None, 9)            23337       sequential_1[1][0]               \n",
            "__________________________________________________________________________________________________\n",
            "dense_62 (Dense)                (None, 9)            23337       sequential_1[1][0]               \n",
            "__________________________________________________________________________________________________\n",
            "dense_63 (Dense)                (None, 9)            23337       sequential_1[1][0]               \n",
            "__________________________________________________________________________________________________\n",
            "dense_64 (Dense)                (None, 9)            23337       sequential_1[1][0]               \n",
            "__________________________________________________________________________________________________\n",
            "dense_65 (Dense)                (None, 9)            23337       sequential_1[1][0]               \n",
            "__________________________________________________________________________________________________\n",
            "dense_66 (Dense)                (None, 9)            23337       sequential_1[1][0]               \n",
            "__________________________________________________________________________________________________\n",
            "dense_67 (Dense)                (None, 9)            23337       sequential_1[1][0]               \n",
            "__________________________________________________________________________________________________\n",
            "dense_68 (Dense)                (None, 9)            23337       sequential_1[1][0]               \n",
            "__________________________________________________________________________________________________\n",
            "dense_69 (Dense)                (None, 9)            23337       sequential_1[1][0]               \n",
            "__________________________________________________________________________________________________\n",
            "dense_70 (Dense)                (None, 9)            23337       sequential_1[1][0]               \n",
            "__________________________________________________________________________________________________\n",
            "dense_71 (Dense)                (None, 9)            23337       sequential_1[1][0]               \n",
            "__________________________________________________________________________________________________\n",
            "dense_72 (Dense)                (None, 9)            23337       sequential_1[1][0]               \n",
            "__________________________________________________________________________________________________\n",
            "dense_73 (Dense)                (None, 9)            23337       sequential_1[1][0]               \n",
            "__________________________________________________________________________________________________\n",
            "dense_74 (Dense)                (None, 9)            23337       sequential_1[1][0]               \n",
            "__________________________________________________________________________________________________\n",
            "dense_75 (Dense)                (None, 9)            23337       sequential_1[1][0]               \n",
            "__________________________________________________________________________________________________\n",
            "dense_76 (Dense)                (None, 9)            23337       sequential_1[1][0]               \n",
            "__________________________________________________________________________________________________\n",
            "dense_77 (Dense)                (None, 9)            23337       sequential_1[1][0]               \n",
            "__________________________________________________________________________________________________\n",
            "dense_78 (Dense)                (None, 9)            23337       sequential_1[1][0]               \n",
            "__________________________________________________________________________________________________\n",
            "dense_79 (Dense)                (None, 9)            23337       sequential_1[1][0]               \n",
            "__________________________________________________________________________________________________\n",
            "dense_80 (Dense)                (None, 9)            23337       sequential_1[1][0]               \n",
            "__________________________________________________________________________________________________\n",
            "dense_81 (Dense)                (None, 9)            23337       sequential_1[1][0]               \n",
            "__________________________________________________________________________________________________\n",
            "dense_82 (Dense)                (None, 9)            23337       sequential_1[1][0]               \n",
            "__________________________________________________________________________________________________\n",
            "dense_83 (Dense)                (None, 9)            23337       sequential_1[1][0]               \n",
            "__________________________________________________________________________________________________\n",
            "dense_84 (Dense)                (None, 9)            23337       sequential_1[1][0]               \n",
            "==================================================================================================\n",
            "Total params: 1,902,041\n",
            "Trainable params: 1,902,041\n",
            "Non-trainable params: 0\n",
            "__________________________________________________________________________________________________\n"
          ],
          "name": "stdout"
        }
      ]
    },
    {
      "cell_type": "code",
      "metadata": {
        "id": "K9Gf3dExxcpH",
        "colab_type": "code",
        "colab": {}
      },
      "source": [
        "class EarlyStoppingByLossVal(Callback):\n",
        "    def __init__(self, monitor='loss', value=0.01, verbose=0):\n",
        "        super(Callback, self).__init__()\n",
        "        self.monitor = monitor\n",
        "        self.value = value\n",
        "        self.verbose = verbose\n",
        "\n",
        "    def on_epoch_end(self, epoch, logs={}):\n",
        "        current = logs.get(self.monitor)\n",
        "        if current is None:\n",
        "            warnings.warn(\"Early stopping requires %s available!\" % self.monitor, RuntimeWarning)\n",
        "\n",
        "        if current < self.value:\n",
        "            if self.verbose > 0:\n",
        "                print(\"Epoch %05d: early stopping\" % epoch)\n",
        "            self.model.stop_training = True\n",
        "\n",
        "callbacks = [\n",
        "    EarlyStoppingByLossVal(monitor='loss', value=1.0, verbose=1),\n",
        "]"
      ],
      "execution_count": 0,
      "outputs": []
    },
    {
      "cell_type": "code",
      "metadata": {
        "id": "lCgUfARjQuet",
        "colab_type": "code",
        "outputId": "7afafa5f-4bc9-4cb5-f8b7-31aa9c7a7575",
        "colab": {
          "base_uri": "https://localhost:8080/",
          "height": 193
        }
      },
      "source": [
        "history = model.fit(train_X, train_Y, epochs=5000, batch_size=256, validation_data=(valid_X, valid_Y), callbacks=callbacks);1,"
      ],
      "execution_count": 13,
      "outputs": [
        {
          "output_type": "stream",
          "text": [
            "Train on 15999 samples, validate on 1999 samples\n",
            "Epoch 1/5000\n",
            "15999/15999 [==============================] - 25s 2ms/step - loss: 76.3379 - dense_4_loss: 0.9132 - dense_5_loss: 0.9510 - dense_6_loss: 0.9249 - dense_7_loss: 0.9240 - dense_8_loss: 0.9412 - dense_9_loss: 0.9224 - dense_10_loss: 0.9410 - dense_11_loss: 0.9251 - dense_12_loss: 0.9260 - dense_13_loss: 0.9282 - dense_14_loss: 0.9451 - dense_15_loss: 0.9378 - dense_16_loss: 0.9318 - dense_17_loss: 0.9280 - dense_18_loss: 0.9247 - dense_19_loss: 0.9196 - dense_20_loss: 0.9492 - dense_21_loss: 0.9260 - dense_22_loss: 0.9323 - dense_23_loss: 0.9247 - dense_24_loss: 0.9202 - dense_25_loss: 0.9090 - dense_26_loss: 0.9256 - dense_27_loss: 0.9644 - dense_28_loss: 0.9349 - dense_29_loss: 0.9259 - dense_30_loss: 0.9269 - dense_31_loss: 0.9428 - dense_32_loss: 0.9243 - dense_33_loss: 0.9485 - dense_34_loss: 0.9581 - dense_35_loss: 0.9020 - dense_36_loss: 0.9201 - dense_37_loss: 0.9283 - dense_38_loss: 0.9284 - dense_39_loss: 0.9396 - dense_40_loss: 0.9374 - dense_41_loss: 0.9416 - dense_42_loss: 0.9477 - dense_43_loss: 0.9394 - dense_44_loss: 0.9462 - dense_45_loss: 0.9393 - dense_46_loss: 0.9158 - dense_47_loss: 0.9504 - dense_48_loss: 0.9602 - dense_49_loss: 0.9205 - dense_50_loss: 0.9383 - dense_51_loss: 0.9429 - dense_52_loss: 0.9320 - dense_53_loss: 0.9192 - dense_54_loss: 0.9753 - dense_55_loss: 0.9257 - dense_56_loss: 0.9295 - dense_57_loss: 0.9315 - dense_58_loss: 0.9172 - dense_59_loss: 0.9604 - dense_60_loss: 0.9277 - dense_61_loss: 0.9350 - dense_62_loss: 0.9243 - dense_63_loss: 0.9385 - dense_64_loss: 0.9400 - dense_65_loss: 0.9280 - dense_66_loss: 0.9602 - dense_67_loss: 0.9569 - dense_68_loss: 0.9321 - dense_69_loss: 0.9561 - dense_70_loss: 0.9428 - dense_71_loss: 0.9320 - dense_72_loss: 0.9407 - dense_73_loss: 0.9191 - dense_74_loss: 0.9477 - dense_75_loss: 0.9240 - dense_76_loss: 0.9561 - dense_77_loss: 0.9311 - dense_78_loss: 0.9169 - dense_79_loss: 0.9330 - dense_80_loss: 0.9463 - dense_81_loss: 0.9396 - dense_82_loss: 0.9658 - dense_83_loss: 0.9341 - dense_84_loss: 0.9452 - dense_4_accuracy: 0.6969 - dense_5_accuracy: 0.6837 - dense_6_accuracy: 0.6935 - dense_7_accuracy: 0.6938 - dense_8_accuracy: 0.6849 - dense_9_accuracy: 0.6919 - dense_10_accuracy: 0.6870 - dense_11_accuracy: 0.6884 - dense_12_accuracy: 0.6904 - dense_13_accuracy: 0.6918 - dense_14_accuracy: 0.6821 - dense_15_accuracy: 0.6860 - dense_16_accuracy: 0.6901 - dense_17_accuracy: 0.6947 - dense_18_accuracy: 0.6925 - dense_19_accuracy: 0.6918 - dense_20_accuracy: 0.6791 - dense_21_accuracy: 0.6960 - dense_22_accuracy: 0.6931 - dense_23_accuracy: 0.6925 - dense_24_accuracy: 0.6967 - dense_25_accuracy: 0.7004 - dense_26_accuracy: 0.6932 - dense_27_accuracy: 0.6747 - dense_28_accuracy: 0.6913 - dense_29_accuracy: 0.6936 - dense_30_accuracy: 0.6922 - dense_31_accuracy: 0.6819 - dense_32_accuracy: 0.6969 - dense_33_accuracy: 0.6825 - dense_34_accuracy: 0.6740 - dense_35_accuracy: 0.7043 - dense_36_accuracy: 0.6947 - dense_37_accuracy: 0.6915 - dense_38_accuracy: 0.6889 - dense_39_accuracy: 0.6873 - dense_40_accuracy: 0.6845 - dense_41_accuracy: 0.6876 - dense_42_accuracy: 0.6782 - dense_43_accuracy: 0.6834 - dense_44_accuracy: 0.6802 - dense_45_accuracy: 0.6841 - dense_46_accuracy: 0.6993 - dense_47_accuracy: 0.6809 - dense_48_accuracy: 0.6749 - dense_49_accuracy: 0.6965 - dense_50_accuracy: 0.6848 - dense_51_accuracy: 0.6837 - dense_52_accuracy: 0.6907 - dense_53_accuracy: 0.7000 - dense_54_accuracy: 0.6656 - dense_55_accuracy: 0.6929 - dense_56_accuracy: 0.6864 - dense_57_accuracy: 0.6893 - dense_58_accuracy: 0.6983 - dense_59_accuracy: 0.6741 - dense_60_accuracy: 0.6927 - dense_61_accuracy: 0.6870 - dense_62_accuracy: 0.6939 - dense_63_accuracy: 0.6843 - dense_64_accuracy: 0.6824 - dense_65_accuracy: 0.6951 - dense_66_accuracy: 0.6782 - dense_67_accuracy: 0.6811 - dense_68_accuracy: 0.6890 - dense_69_accuracy: 0.6785 - dense_70_accuracy: 0.6838 - dense_71_accuracy: 0.6882 - dense_72_accuracy: 0.6859 - dense_73_accuracy: 0.6987 - dense_74_accuracy: 0.6801 - dense_75_accuracy: 0.6952 - dense_76_accuracy: 0.6802 - dense_77_accuracy: 0.6903 - dense_78_accuracy: 0.6972 - dense_79_accuracy: 0.6902 - dense_80_accuracy: 0.6808 - dense_81_accuracy: 0.6852 - dense_82_accuracy: 0.6723 - dense_83_accuracy: 0.6877 - dense_84_accuracy: 0.6838 - val_loss: 91.6100 - val_dense_4_loss: 1.1217 - val_dense_5_loss: 1.1613 - val_dense_6_loss: 1.0690 - val_dense_7_loss: 1.0992 - val_dense_8_loss: 1.0329 - val_dense_9_loss: 1.1961 - val_dense_10_loss: 1.2329 - val_dense_11_loss: 1.0983 - val_dense_12_loss: 1.1350 - val_dense_13_loss: 1.1502 - val_dense_14_loss: 1.1259 - val_dense_15_loss: 1.0767 - val_dense_16_loss: 1.1068 - val_dense_17_loss: 1.1637 - val_dense_18_loss: 1.1365 - val_dense_19_loss: 1.0719 - val_dense_20_loss: 1.0859 - val_dense_21_loss: 1.1151 - val_dense_22_loss: 1.2012 - val_dense_23_loss: 1.1130 - val_dense_24_loss: 1.0330 - val_dense_25_loss: 1.1372 - val_dense_26_loss: 1.0764 - val_dense_27_loss: 1.1590 - val_dense_28_loss: 1.1046 - val_dense_29_loss: 1.1110 - val_dense_30_loss: 1.1381 - val_dense_31_loss: 1.0721 - val_dense_32_loss: 1.1730 - val_dense_33_loss: 1.1000 - val_dense_34_loss: 1.1049 - val_dense_35_loss: 1.1242 - val_dense_36_loss: 1.0503 - val_dense_37_loss: 1.0802 - val_dense_38_loss: 1.1312 - val_dense_39_loss: 1.1070 - val_dense_40_loss: 1.1114 - val_dense_41_loss: 1.0751 - val_dense_42_loss: 1.1215 - val_dense_43_loss: 1.1788 - val_dense_44_loss: 1.1599 - val_dense_45_loss: 1.1469 - val_dense_46_loss: 1.2123 - val_dense_47_loss: 1.2558 - val_dense_48_loss: 1.2041 - val_dense_49_loss: 1.1427 - val_dense_50_loss: 1.1025 - val_dense_51_loss: 1.1438 - val_dense_52_loss: 1.0789 - val_dense_53_loss: 1.1188 - val_dense_54_loss: 1.1678 - val_dense_55_loss: 1.1090 - val_dense_56_loss: 1.1677 - val_dense_57_loss: 1.1817 - val_dense_58_loss: 1.1498 - val_dense_59_loss: 1.2201 - val_dense_60_loss: 1.1279 - val_dense_61_loss: 1.1243 - val_dense_62_loss: 1.0450 - val_dense_63_loss: 1.1414 - val_dense_64_loss: 1.1562 - val_dense_65_loss: 1.1665 - val_dense_66_loss: 1.1015 - val_dense_67_loss: 1.1478 - val_dense_68_loss: 1.0527 - val_dense_69_loss: 1.2177 - val_dense_70_loss: 1.1291 - val_dense_71_loss: 1.2003 - val_dense_72_loss: 1.1568 - val_dense_73_loss: 1.0842 - val_dense_74_loss: 1.1153 - val_dense_75_loss: 1.0797 - val_dense_76_loss: 1.1009 - val_dense_77_loss: 1.1962 - val_dense_78_loss: 1.0619 - val_dense_79_loss: 1.2274 - val_dense_80_loss: 1.0942 - val_dense_81_loss: 1.1858 - val_dense_82_loss: 1.1018 - val_dense_83_loss: 1.1399 - val_dense_84_loss: 1.2135 - val_dense_4_accuracy: 0.5873 - val_dense_5_accuracy: 0.5828 - val_dense_6_accuracy: 0.6118 - val_dense_7_accuracy: 0.6223 - val_dense_8_accuracy: 0.6313 - val_dense_9_accuracy: 0.5613 - val_dense_10_accuracy: 0.5613 - val_dense_11_accuracy: 0.5978 - val_dense_12_accuracy: 0.5903 - val_dense_13_accuracy: 0.5958 - val_dense_14_accuracy: 0.5908 - val_dense_15_accuracy: 0.6058 - val_dense_16_accuracy: 0.6043 - val_dense_17_accuracy: 0.5738 - val_dense_18_accuracy: 0.5863 - val_dense_19_accuracy: 0.6158 - val_dense_20_accuracy: 0.6158 - val_dense_21_accuracy: 0.5953 - val_dense_22_accuracy: 0.5578 - val_dense_23_accuracy: 0.5918 - val_dense_24_accuracy: 0.6288 - val_dense_25_accuracy: 0.6038 - val_dense_26_accuracy: 0.6128 - val_dense_27_accuracy: 0.5753 - val_dense_28_accuracy: 0.6148 - val_dense_29_accuracy: 0.6168 - val_dense_30_accuracy: 0.5838 - val_dense_31_accuracy: 0.6098 - val_dense_32_accuracy: 0.5808 - val_dense_33_accuracy: 0.5993 - val_dense_34_accuracy: 0.6048 - val_dense_35_accuracy: 0.5938 - val_dense_36_accuracy: 0.6183 - val_dense_37_accuracy: 0.6123 - val_dense_38_accuracy: 0.6043 - val_dense_39_accuracy: 0.6063 - val_dense_40_accuracy: 0.5938 - val_dense_41_accuracy: 0.6158 - val_dense_42_accuracy: 0.5958 - val_dense_43_accuracy: 0.5823 - val_dense_44_accuracy: 0.5633 - val_dense_45_accuracy: 0.5883 - val_dense_46_accuracy: 0.5613 - val_dense_47_accuracy: 0.5463 - val_dense_48_accuracy: 0.5773 - val_dense_49_accuracy: 0.5898 - val_dense_50_accuracy: 0.6033 - val_dense_51_accuracy: 0.5843 - val_dense_52_accuracy: 0.6153 - val_dense_53_accuracy: 0.5983 - val_dense_54_accuracy: 0.5763 - val_dense_55_accuracy: 0.6028 - val_dense_56_accuracy: 0.5703 - val_dense_57_accuracy: 0.5623 - val_dense_58_accuracy: 0.5813 - val_dense_59_accuracy: 0.5553 - val_dense_60_accuracy: 0.5928 - val_dense_61_accuracy: 0.5958 - val_dense_62_accuracy: 0.6243 - val_dense_63_accuracy: 0.5863 - val_dense_64_accuracy: 0.5763 - val_dense_65_accuracy: 0.5808 - val_dense_66_accuracy: 0.5993 - val_dense_67_accuracy: 0.5853 - val_dense_68_accuracy: 0.6313 - val_dense_69_accuracy: 0.5588 - val_dense_70_accuracy: 0.6018 - val_dense_71_accuracy: 0.5638 - val_dense_72_accuracy: 0.5758 - val_dense_73_accuracy: 0.6188 - val_dense_74_accuracy: 0.6008 - val_dense_75_accuracy: 0.6148 - val_dense_76_accuracy: 0.5998 - val_dense_77_accuracy: 0.5823 - val_dense_78_accuracy: 0.6038 - val_dense_79_accuracy: 0.5518 - val_dense_80_accuracy: 0.6113 - val_dense_81_accuracy: 0.5683 - val_dense_82_accuracy: 0.6033 - val_dense_83_accuracy: 0.5863 - val_dense_84_accuracy: 0.5648\n",
            "Epoch 2/5000\n",
            "15999/15999 [==============================] - 14s 844us/step - loss: 0.8067 - dense_4_loss: 0.0092 - dense_5_loss: 0.0099 - dense_6_loss: 0.0094 - dense_7_loss: 0.0098 - dense_8_loss: 0.0099 - dense_9_loss: 0.0094 - dense_10_loss: 0.0106 - dense_11_loss: 0.0099 - dense_12_loss: 0.0091 - dense_13_loss: 0.0094 - dense_14_loss: 0.0098 - dense_15_loss: 0.0106 - dense_16_loss: 0.0097 - dense_17_loss: 0.0095 - dense_18_loss: 0.0095 - dense_19_loss: 0.0089 - dense_20_loss: 0.0108 - dense_21_loss: 0.0094 - dense_22_loss: 0.0101 - dense_23_loss: 0.0090 - dense_24_loss: 0.0100 - dense_25_loss: 0.0086 - dense_26_loss: 0.0092 - dense_27_loss: 0.0113 - dense_28_loss: 0.0088 - dense_29_loss: 0.0107 - dense_30_loss: 0.0094 - dense_31_loss: 0.0104 - dense_32_loss: 0.0089 - dense_33_loss: 0.0111 - dense_34_loss: 0.0104 - dense_35_loss: 0.0087 - dense_36_loss: 0.0097 - dense_37_loss: 0.0096 - dense_38_loss: 0.0097 - dense_39_loss: 0.0094 - dense_40_loss: 0.0103 - dense_41_loss: 0.0093 - dense_42_loss: 0.0107 - dense_43_loss: 0.0097 - dense_44_loss: 0.0098 - dense_45_loss: 0.0106 - dense_46_loss: 0.0089 - dense_47_loss: 0.0103 - dense_48_loss: 0.0108 - dense_49_loss: 0.0101 - dense_50_loss: 0.0098 - dense_51_loss: 0.0125 - dense_52_loss: 0.0096 - dense_53_loss: 0.0095 - dense_54_loss: 0.0122 - dense_55_loss: 0.0099 - dense_56_loss: 0.0094 - dense_57_loss: 0.0111 - dense_58_loss: 0.0085 - dense_59_loss: 0.0103 - dense_60_loss: 0.0092 - dense_61_loss: 0.0098 - dense_62_loss: 0.0097 - dense_63_loss: 0.0096 - dense_64_loss: 0.0108 - dense_65_loss: 0.0096 - dense_66_loss: 0.0096 - dense_67_loss: 0.0105 - dense_68_loss: 0.0095 - dense_69_loss: 0.0118 - dense_70_loss: 0.0102 - dense_71_loss: 0.0090 - dense_72_loss: 0.0099 - dense_73_loss: 0.0092 - dense_74_loss: 0.0105 - dense_75_loss: 0.0099 - dense_76_loss: 0.0105 - dense_77_loss: 0.0099 - dense_78_loss: 0.0091 - dense_79_loss: 0.0101 - dense_80_loss: 0.0105 - dense_81_loss: 0.0102 - dense_82_loss: 0.0105 - dense_83_loss: 0.0093 - dense_84_loss: 0.0097 - dense_4_accuracy: 0.9996 - dense_5_accuracy: 0.9996 - dense_6_accuracy: 0.9997 - dense_7_accuracy: 0.9996 - dense_8_accuracy: 0.9996 - dense_9_accuracy: 0.9998 - dense_10_accuracy: 0.9994 - dense_11_accuracy: 0.9995 - dense_12_accuracy: 0.9999 - dense_13_accuracy: 0.9996 - dense_14_accuracy: 0.9998 - dense_15_accuracy: 0.9995 - dense_16_accuracy: 0.9997 - dense_17_accuracy: 0.9997 - dense_18_accuracy: 0.9997 - dense_19_accuracy: 0.9999 - dense_20_accuracy: 0.9996 - dense_21_accuracy: 0.9996 - dense_22_accuracy: 0.9991 - dense_23_accuracy: 0.9998 - dense_24_accuracy: 0.9997 - dense_25_accuracy: 0.9999 - dense_26_accuracy: 0.9998 - dense_27_accuracy: 0.9997 - dense_28_accuracy: 0.9999 - dense_29_accuracy: 0.9994 - dense_30_accuracy: 0.9997 - dense_31_accuracy: 0.9995 - dense_32_accuracy: 0.9996 - dense_33_accuracy: 0.9994 - dense_34_accuracy: 0.9997 - dense_35_accuracy: 0.9999 - dense_36_accuracy: 0.9996 - dense_37_accuracy: 0.9996 - dense_38_accuracy: 0.9998 - dense_39_accuracy: 0.9997 - dense_40_accuracy: 0.9994 - dense_41_accuracy: 0.9999 - dense_42_accuracy: 0.9993 - dense_43_accuracy: 0.9997 - dense_44_accuracy: 0.9997 - dense_45_accuracy: 0.9996 - dense_46_accuracy: 0.9997 - dense_47_accuracy: 0.9995 - dense_48_accuracy: 0.9996 - dense_49_accuracy: 0.9994 - dense_50_accuracy: 0.9997 - dense_51_accuracy: 0.9990 - dense_52_accuracy: 0.9997 - dense_53_accuracy: 0.9997 - dense_54_accuracy: 0.9991 - dense_55_accuracy: 0.9996 - dense_56_accuracy: 0.9996 - dense_57_accuracy: 0.9994 - dense_58_accuracy: 0.9999 - dense_59_accuracy: 0.9997 - dense_60_accuracy: 0.9998 - dense_61_accuracy: 0.9997 - dense_62_accuracy: 0.9998 - dense_63_accuracy: 0.9998 - dense_64_accuracy: 0.9995 - dense_65_accuracy: 0.9996 - dense_66_accuracy: 0.9999 - dense_67_accuracy: 0.9999 - dense_68_accuracy: 0.9997 - dense_69_accuracy: 0.9991 - dense_70_accuracy: 0.9996 - dense_71_accuracy: 0.9999 - dense_72_accuracy: 0.9997 - dense_73_accuracy: 0.9997 - dense_74_accuracy: 0.9994 - dense_75_accuracy: 0.9996 - dense_76_accuracy: 0.9997 - dense_77_accuracy: 0.9996 - dense_78_accuracy: 0.9998 - dense_79_accuracy: 0.9994 - dense_80_accuracy: 0.9994 - dense_81_accuracy: 0.9997 - dense_82_accuracy: 0.9996 - dense_83_accuracy: 0.9999 - dense_84_accuracy: 0.9997 - val_loss: 89.2863 - val_dense_4_loss: 1.0805 - val_dense_5_loss: 1.0342 - val_dense_6_loss: 1.0864 - val_dense_7_loss: 1.0474 - val_dense_8_loss: 1.0603 - val_dense_9_loss: 1.0788 - val_dense_10_loss: 1.0726 - val_dense_11_loss: 1.0749 - val_dense_12_loss: 1.1067 - val_dense_13_loss: 1.1746 - val_dense_14_loss: 1.1192 - val_dense_15_loss: 1.0628 - val_dense_16_loss: 1.1172 - val_dense_17_loss: 1.3385 - val_dense_18_loss: 1.1336 - val_dense_19_loss: 1.0600 - val_dense_20_loss: 1.0708 - val_dense_21_loss: 1.0608 - val_dense_22_loss: 1.1809 - val_dense_23_loss: 1.1265 - val_dense_24_loss: 1.0313 - val_dense_25_loss: 1.1346 - val_dense_26_loss: 1.0754 - val_dense_27_loss: 1.2478 - val_dense_28_loss: 1.0593 - val_dense_29_loss: 1.1532 - val_dense_30_loss: 1.1172 - val_dense_31_loss: 1.0082 - val_dense_32_loss: 1.0708 - val_dense_33_loss: 1.0858 - val_dense_34_loss: 1.0316 - val_dense_35_loss: 1.0554 - val_dense_36_loss: 1.0288 - val_dense_37_loss: 1.0487 - val_dense_38_loss: 1.1106 - val_dense_39_loss: 1.0756 - val_dense_40_loss: 1.0945 - val_dense_41_loss: 1.0287 - val_dense_42_loss: 1.0549 - val_dense_43_loss: 1.3287 - val_dense_44_loss: 1.1552 - val_dense_45_loss: 1.2191 - val_dense_46_loss: 1.0980 - val_dense_47_loss: 1.0866 - val_dense_48_loss: 1.1665 - val_dense_49_loss: 1.1541 - val_dense_50_loss: 1.0421 - val_dense_51_loss: 1.1006 - val_dense_52_loss: 1.0042 - val_dense_53_loss: 1.1270 - val_dense_54_loss: 1.1917 - val_dense_55_loss: 1.1002 - val_dense_56_loss: 1.1152 - val_dense_57_loss: 1.1688 - val_dense_58_loss: 1.1424 - val_dense_59_loss: 1.1367 - val_dense_60_loss: 1.1006 - val_dense_61_loss: 1.0617 - val_dense_62_loss: 1.0502 - val_dense_63_loss: 1.0426 - val_dense_64_loss: 1.1294 - val_dense_65_loss: 1.1188 - val_dense_66_loss: 1.0756 - val_dense_67_loss: 1.0534 - val_dense_68_loss: 1.0196 - val_dense_69_loss: 1.1410 - val_dense_70_loss: 1.1261 - val_dense_71_loss: 1.2336 - val_dense_72_loss: 1.1513 - val_dense_73_loss: 1.0744 - val_dense_74_loss: 1.0605 - val_dense_75_loss: 1.1202 - val_dense_76_loss: 1.0612 - val_dense_77_loss: 1.1020 - val_dense_78_loss: 0.9592 - val_dense_79_loss: 1.1598 - val_dense_80_loss: 1.0763 - val_dense_81_loss: 1.0966 - val_dense_82_loss: 1.0847 - val_dense_83_loss: 1.0872 - val_dense_84_loss: 1.1665 - val_dense_4_accuracy: 0.6403 - val_dense_5_accuracy: 0.6618 - val_dense_6_accuracy: 0.6438 - val_dense_7_accuracy: 0.6663 - val_dense_8_accuracy: 0.6493 - val_dense_9_accuracy: 0.6403 - val_dense_10_accuracy: 0.6538 - val_dense_11_accuracy: 0.6403 - val_dense_12_accuracy: 0.6428 - val_dense_13_accuracy: 0.6283 - val_dense_14_accuracy: 0.6403 - val_dense_15_accuracy: 0.6413 - val_dense_16_accuracy: 0.6263 - val_dense_17_accuracy: 0.5923 - val_dense_18_accuracy: 0.6233 - val_dense_19_accuracy: 0.6443 - val_dense_20_accuracy: 0.6538 - val_dense_21_accuracy: 0.6483 - val_dense_22_accuracy: 0.6203 - val_dense_23_accuracy: 0.6408 - val_dense_24_accuracy: 0.6703 - val_dense_25_accuracy: 0.6408 - val_dense_26_accuracy: 0.6518 - val_dense_27_accuracy: 0.6123 - val_dense_28_accuracy: 0.6513 - val_dense_29_accuracy: 0.6448 - val_dense_30_accuracy: 0.6358 - val_dense_31_accuracy: 0.6493 - val_dense_32_accuracy: 0.6458 - val_dense_33_accuracy: 0.6608 - val_dense_34_accuracy: 0.6598 - val_dense_35_accuracy: 0.6598 - val_dense_36_accuracy: 0.6598 - val_dense_37_accuracy: 0.6468 - val_dense_38_accuracy: 0.6453 - val_dense_39_accuracy: 0.6413 - val_dense_40_accuracy: 0.6363 - val_dense_41_accuracy: 0.6633 - val_dense_42_accuracy: 0.6463 - val_dense_43_accuracy: 0.5908 - val_dense_44_accuracy: 0.6108 - val_dense_45_accuracy: 0.6108 - val_dense_46_accuracy: 0.6343 - val_dense_47_accuracy: 0.6348 - val_dense_48_accuracy: 0.6278 - val_dense_49_accuracy: 0.6348 - val_dense_50_accuracy: 0.6583 - val_dense_51_accuracy: 0.6443 - val_dense_52_accuracy: 0.6618 - val_dense_53_accuracy: 0.6388 - val_dense_54_accuracy: 0.6318 - val_dense_55_accuracy: 0.6443 - val_dense_56_accuracy: 0.6258 - val_dense_57_accuracy: 0.6158 - val_dense_58_accuracy: 0.6263 - val_dense_59_accuracy: 0.6388 - val_dense_60_accuracy: 0.6398 - val_dense_61_accuracy: 0.6558 - val_dense_62_accuracy: 0.6573 - val_dense_63_accuracy: 0.6573 - val_dense_64_accuracy: 0.6288 - val_dense_65_accuracy: 0.6558 - val_dense_66_accuracy: 0.6393 - val_dense_67_accuracy: 0.6483 - val_dense_68_accuracy: 0.6608 - val_dense_69_accuracy: 0.6398 - val_dense_70_accuracy: 0.6333 - val_dense_71_accuracy: 0.5963 - val_dense_72_accuracy: 0.6328 - val_dense_73_accuracy: 0.6478 - val_dense_74_accuracy: 0.6533 - val_dense_75_accuracy: 0.6373 - val_dense_76_accuracy: 0.6498 - val_dense_77_accuracy: 0.6483 - val_dense_78_accuracy: 0.6673 - val_dense_79_accuracy: 0.6278 - val_dense_80_accuracy: 0.6583 - val_dense_81_accuracy: 0.6518 - val_dense_82_accuracy: 0.6433 - val_dense_83_accuracy: 0.6448 - val_dense_84_accuracy: 0.6283\n",
            "Epoch 3/5000\n",
            "15999/15999 [==============================] - 14s 849us/step - loss: 0.0607 - dense_4_loss: 3.1053e-04 - dense_5_loss: 3.9480e-04 - dense_6_loss: 9.1316e-04 - dense_7_loss: 5.5430e-04 - dense_8_loss: 4.6111e-04 - dense_9_loss: 5.1843e-04 - dense_10_loss: 0.0010 - dense_11_loss: 3.5830e-04 - dense_12_loss: 0.0017 - dense_13_loss: 7.0626e-04 - dense_14_loss: 5.3356e-04 - dense_15_loss: 0.0013 - dense_16_loss: 4.5870e-04 - dense_17_loss: 0.0012 - dense_18_loss: 7.6542e-04 - dense_19_loss: 0.0011 - dense_20_loss: 7.7603e-04 - dense_21_loss: 3.7809e-04 - dense_22_loss: 5.5974e-04 - dense_23_loss: 7.0601e-04 - dense_24_loss: 5.2672e-04 - dense_25_loss: 6.3481e-04 - dense_26_loss: 5.1132e-04 - dense_27_loss: 0.0016 - dense_28_loss: 5.3164e-04 - dense_29_loss: 5.4731e-04 - dense_30_loss: 6.3621e-04 - dense_31_loss: 6.2427e-04 - dense_32_loss: 6.5217e-04 - dense_33_loss: 6.0466e-04 - dense_34_loss: 0.0010 - dense_35_loss: 3.7236e-04 - dense_36_loss: 9.8592e-04 - dense_37_loss: 6.2397e-04 - dense_38_loss: 5.0788e-04 - dense_39_loss: 3.7993e-04 - dense_40_loss: 5.7595e-04 - dense_41_loss: 0.0013 - dense_42_loss: 0.0010 - dense_43_loss: 5.8110e-04 - dense_44_loss: 8.7415e-04 - dense_45_loss: 0.0013 - dense_46_loss: 0.0012 - dense_47_loss: 7.9787e-04 - dense_48_loss: 6.5086e-04 - dense_49_loss: 7.4949e-04 - dense_50_loss: 5.7500e-04 - dense_51_loss: 4.8356e-04 - dense_52_loss: 4.6942e-04 - dense_53_loss: 4.7225e-04 - dense_54_loss: 0.0010 - dense_55_loss: 8.5598e-04 - dense_56_loss: 7.0482e-04 - dense_57_loss: 8.3118e-04 - dense_58_loss: 5.6268e-04 - dense_59_loss: 3.9691e-04 - dense_60_loss: 6.3477e-04 - dense_61_loss: 0.0012 - dense_62_loss: 0.0011 - dense_63_loss: 4.2369e-04 - dense_64_loss: 7.7677e-04 - dense_65_loss: 0.0012 - dense_66_loss: 7.4796e-04 - dense_67_loss: 0.0011 - dense_68_loss: 0.0014 - dense_69_loss: 5.2741e-04 - dense_70_loss: 8.6839e-04 - dense_71_loss: 5.5864e-04 - dense_72_loss: 8.0235e-04 - dense_73_loss: 7.7594e-04 - dense_74_loss: 8.7609e-04 - dense_75_loss: 9.0318e-04 - dense_76_loss: 8.3291e-04 - dense_77_loss: 9.9749e-04 - dense_78_loss: 3.7277e-04 - dense_79_loss: 6.4598e-04 - dense_80_loss: 3.5717e-04 - dense_81_loss: 0.0011 - dense_82_loss: 4.8611e-04 - dense_83_loss: 3.1269e-04 - dense_84_loss: 6.9678e-04 - dense_4_accuracy: 1.0000 - dense_5_accuracy: 1.0000 - dense_6_accuracy: 0.9999 - dense_7_accuracy: 1.0000 - dense_8_accuracy: 1.0000 - dense_9_accuracy: 1.0000 - dense_10_accuracy: 0.9996 - dense_11_accuracy: 1.0000 - dense_12_accuracy: 0.9996 - dense_13_accuracy: 1.0000 - dense_14_accuracy: 0.9999 - dense_15_accuracy: 0.9996 - dense_16_accuracy: 1.0000 - dense_17_accuracy: 0.9998 - dense_18_accuracy: 0.9999 - dense_19_accuracy: 0.9999 - dense_20_accuracy: 0.9999 - dense_21_accuracy: 1.0000 - dense_22_accuracy: 0.9999 - dense_23_accuracy: 0.9999 - dense_24_accuracy: 1.0000 - dense_25_accuracy: 0.9999 - dense_26_accuracy: 0.9999 - dense_27_accuracy: 0.9996 - dense_28_accuracy: 0.9999 - dense_29_accuracy: 0.9999 - dense_30_accuracy: 1.0000 - dense_31_accuracy: 0.9999 - dense_32_accuracy: 0.9999 - dense_33_accuracy: 0.9999 - dense_34_accuracy: 0.9997 - dense_35_accuracy: 1.0000 - dense_36_accuracy: 0.9998 - dense_37_accuracy: 1.0000 - dense_38_accuracy: 0.9999 - dense_39_accuracy: 1.0000 - dense_40_accuracy: 1.0000 - dense_41_accuracy: 0.9996 - dense_42_accuracy: 0.9998 - dense_43_accuracy: 0.9999 - dense_44_accuracy: 0.9999 - dense_45_accuracy: 0.9997 - dense_46_accuracy: 0.9996 - dense_47_accuracy: 0.9999 - dense_48_accuracy: 0.9998 - dense_49_accuracy: 0.9999 - dense_50_accuracy: 1.0000 - dense_51_accuracy: 1.0000 - dense_52_accuracy: 1.0000 - dense_53_accuracy: 0.9999 - dense_54_accuracy: 0.9998 - dense_55_accuracy: 0.9999 - dense_56_accuracy: 0.9999 - dense_57_accuracy: 0.9999 - dense_58_accuracy: 0.9999 - dense_59_accuracy: 1.0000 - dense_60_accuracy: 1.0000 - dense_61_accuracy: 0.9998 - dense_62_accuracy: 0.9997 - dense_63_accuracy: 1.0000 - dense_64_accuracy: 0.9999 - dense_65_accuracy: 0.9995 - dense_66_accuracy: 1.0000 - dense_67_accuracy: 0.9998 - dense_68_accuracy: 0.9996 - dense_69_accuracy: 1.0000 - dense_70_accuracy: 1.0000 - dense_71_accuracy: 1.0000 - dense_72_accuracy: 1.0000 - dense_73_accuracy: 0.9999 - dense_74_accuracy: 0.9998 - dense_75_accuracy: 0.9997 - dense_76_accuracy: 0.9999 - dense_77_accuracy: 0.9997 - dense_78_accuracy: 1.0000 - dense_79_accuracy: 1.0000 - dense_80_accuracy: 1.0000 - dense_81_accuracy: 0.9997 - dense_82_accuracy: 1.0000 - dense_83_accuracy: 1.0000 - dense_84_accuracy: 0.9999 - val_loss: 102.3873 - val_dense_4_loss: 1.2972 - val_dense_5_loss: 1.2055 - val_dense_6_loss: 1.2406 - val_dense_7_loss: 1.2298 - val_dense_8_loss: 1.1860 - val_dense_9_loss: 1.2404 - val_dense_10_loss: 1.3103 - val_dense_11_loss: 1.2024 - val_dense_12_loss: 1.3328 - val_dense_13_loss: 1.2805 - val_dense_14_loss: 1.2717 - val_dense_15_loss: 1.2053 - val_dense_16_loss: 1.2371 - val_dense_17_loss: 1.4108 - val_dense_18_loss: 1.3385 - val_dense_19_loss: 1.1705 - val_dense_20_loss: 1.2416 - val_dense_21_loss: 1.2797 - val_dense_22_loss: 1.2655 - val_dense_23_loss: 1.3051 - val_dense_24_loss: 1.1924 - val_dense_25_loss: 1.3517 - val_dense_26_loss: 1.1815 - val_dense_27_loss: 1.2935 - val_dense_28_loss: 1.2003 - val_dense_29_loss: 1.1947 - val_dense_30_loss: 1.3354 - val_dense_31_loss: 1.1723 - val_dense_32_loss: 1.2368 - val_dense_33_loss: 1.3041 - val_dense_34_loss: 1.2589 - val_dense_35_loss: 1.1798 - val_dense_36_loss: 1.1962 - val_dense_37_loss: 1.3065 - val_dense_38_loss: 1.3007 - val_dense_39_loss: 1.2214 - val_dense_40_loss: 1.2845 - val_dense_41_loss: 1.2297 - val_dense_42_loss: 1.2147 - val_dense_43_loss: 1.3422 - val_dense_44_loss: 1.3763 - val_dense_45_loss: 1.2738 - val_dense_46_loss: 1.2842 - val_dense_47_loss: 1.2719 - val_dense_48_loss: 1.2606 - val_dense_49_loss: 1.2389 - val_dense_50_loss: 1.3188 - val_dense_51_loss: 1.1974 - val_dense_52_loss: 1.1918 - val_dense_53_loss: 1.3990 - val_dense_54_loss: 1.2504 - val_dense_55_loss: 1.2514 - val_dense_56_loss: 1.2745 - val_dense_57_loss: 1.2994 - val_dense_58_loss: 1.3839 - val_dense_59_loss: 1.3115 - val_dense_60_loss: 1.2755 - val_dense_61_loss: 1.2690 - val_dense_62_loss: 1.2865 - val_dense_63_loss: 1.1868 - val_dense_64_loss: 1.3582 - val_dense_65_loss: 1.2636 - val_dense_66_loss: 1.2511 - val_dense_67_loss: 1.2552 - val_dense_68_loss: 1.2251 - val_dense_69_loss: 1.3074 - val_dense_70_loss: 1.2872 - val_dense_71_loss: 1.4809 - val_dense_72_loss: 1.2454 - val_dense_73_loss: 1.1889 - val_dense_74_loss: 1.2525 - val_dense_75_loss: 1.1698 - val_dense_76_loss: 1.2351 - val_dense_77_loss: 1.2184 - val_dense_78_loss: 1.1215 - val_dense_79_loss: 1.3441 - val_dense_80_loss: 1.1647 - val_dense_81_loss: 1.2534 - val_dense_82_loss: 1.2277 - val_dense_83_loss: 1.2494 - val_dense_84_loss: 1.4361 - val_dense_4_accuracy: 0.6453 - val_dense_5_accuracy: 0.6668 - val_dense_6_accuracy: 0.6488 - val_dense_7_accuracy: 0.6813 - val_dense_8_accuracy: 0.6668 - val_dense_9_accuracy: 0.6523 - val_dense_10_accuracy: 0.6478 - val_dense_11_accuracy: 0.6698 - val_dense_12_accuracy: 0.6448 - val_dense_13_accuracy: 0.6353 - val_dense_14_accuracy: 0.6663 - val_dense_15_accuracy: 0.6638 - val_dense_16_accuracy: 0.6523 - val_dense_17_accuracy: 0.6288 - val_dense_18_accuracy: 0.6368 - val_dense_19_accuracy: 0.6798 - val_dense_20_accuracy: 0.6723 - val_dense_21_accuracy: 0.6538 - val_dense_22_accuracy: 0.6498 - val_dense_23_accuracy: 0.6558 - val_dense_24_accuracy: 0.6743 - val_dense_25_accuracy: 0.6463 - val_dense_26_accuracy: 0.6768 - val_dense_27_accuracy: 0.6523 - val_dense_28_accuracy: 0.6588 - val_dense_29_accuracy: 0.6703 - val_dense_30_accuracy: 0.6453 - val_dense_31_accuracy: 0.6588 - val_dense_32_accuracy: 0.6618 - val_dense_33_accuracy: 0.6658 - val_dense_34_accuracy: 0.6653 - val_dense_35_accuracy: 0.6703 - val_dense_36_accuracy: 0.6673 - val_dense_37_accuracy: 0.6543 - val_dense_38_accuracy: 0.6533 - val_dense_39_accuracy: 0.6653 - val_dense_40_accuracy: 0.6448 - val_dense_41_accuracy: 0.6643 - val_dense_42_accuracy: 0.6538 - val_dense_43_accuracy: 0.6438 - val_dense_44_accuracy: 0.6263 - val_dense_45_accuracy: 0.6448 - val_dense_46_accuracy: 0.6508 - val_dense_47_accuracy: 0.6553 - val_dense_48_accuracy: 0.6538 - val_dense_49_accuracy: 0.6503 - val_dense_50_accuracy: 0.6518 - val_dense_51_accuracy: 0.6628 - val_dense_52_accuracy: 0.6683 - val_dense_53_accuracy: 0.6373 - val_dense_54_accuracy: 0.6553 - val_dense_55_accuracy: 0.6628 - val_dense_56_accuracy: 0.6483 - val_dense_57_accuracy: 0.6348 - val_dense_58_accuracy: 0.6263 - val_dense_59_accuracy: 0.6538 - val_dense_60_accuracy: 0.6513 - val_dense_61_accuracy: 0.6553 - val_dense_62_accuracy: 0.6633 - val_dense_63_accuracy: 0.6648 - val_dense_64_accuracy: 0.6373 - val_dense_65_accuracy: 0.6608 - val_dense_66_accuracy: 0.6553 - val_dense_67_accuracy: 0.6573 - val_dense_68_accuracy: 0.6708 - val_dense_69_accuracy: 0.6623 - val_dense_70_accuracy: 0.6393 - val_dense_71_accuracy: 0.6258 - val_dense_72_accuracy: 0.6578 - val_dense_73_accuracy: 0.6658 - val_dense_74_accuracy: 0.6553 - val_dense_75_accuracy: 0.6618 - val_dense_76_accuracy: 0.6578 - val_dense_77_accuracy: 0.6628 - val_dense_78_accuracy: 0.6733 - val_dense_79_accuracy: 0.6448 - val_dense_80_accuracy: 0.6818 - val_dense_81_accuracy: 0.6593 - val_dense_82_accuracy: 0.6638 - val_dense_83_accuracy: 0.6393 - val_dense_84_accuracy: 0.6193\n",
            "Epoch 00002: early stopping\n"
          ],
          "name": "stdout"
        },
        {
          "output_type": "execute_result",
          "data": {
            "text/plain": [
              "(1,)"
            ]
          },
          "metadata": {
            "tags": []
          },
          "execution_count": 13
        }
      ]
    },
    {
      "cell_type": "code",
      "metadata": {
        "id": "eG9GElMjkFdq",
        "colab_type": "code",
        "colab": {}
      },
      "source": [
        "for i in range(1,20):\n",
        "  print('Training with missing clues ', i*3);\n",
        "  train_X_round = remove_clues(train_X, remove_clue=3);\n",
        "  history = model.fit(train_X_round, train_Y, epochs=5000, batch_size=128, validation_data=(valid_X, valid_Y), callbacks=callbacks);"
      ],
      "execution_count": 0,
      "outputs": []
    },
    {
      "cell_type": "code",
      "metadata": {
        "id": "xS_Uki9k2PgT",
        "colab_type": "code",
        "colab": {}
      },
      "source": [
        ""
      ],
      "execution_count": 0,
      "outputs": []
    }
  ]
}